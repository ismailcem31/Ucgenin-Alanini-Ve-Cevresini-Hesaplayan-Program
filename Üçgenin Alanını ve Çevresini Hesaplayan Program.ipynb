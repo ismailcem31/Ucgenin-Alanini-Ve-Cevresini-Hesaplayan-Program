{
 "cells": [
  {
   "cell_type": "code",
   "execution_count": null,
   "id": "33f7e4e5",
   "metadata": {},
   "outputs": [],
   "source": [
    "# Kullanıcıdan kenar uzunluğunu ve yüksekliği al\n",
    "kenar = float(input(\"Lütfen üçgenin kenar uzunluğunu girin: \"))\n",
    "yukseklik = float(input(\"Lütfen bu kenara ait yüksekliği girin: \"))\n",
    " \n",
    "# Alanı hesapla\n",
    "alan = (kenar * yukseklik) / 2\n",
    " \n",
    "print(f\"Üçgenin Alanı: {alan}\")"
   ]
  }
 ],
 "metadata": {
  "kernelspec": {
   "display_name": "Python 3 (ipykernel)",
   "language": "python",
   "name": "python3"
  },
  "language_info": {
   "codemirror_mode": {
    "name": "ipython",
    "version": 3
   },
   "file_extension": ".py",
   "mimetype": "text/x-python",
   "name": "python",
   "nbconvert_exporter": "python",
   "pygments_lexer": "ipython3",
   "version": "3.11.3"
  }
 },
 "nbformat": 4,
 "nbformat_minor": 5
}
